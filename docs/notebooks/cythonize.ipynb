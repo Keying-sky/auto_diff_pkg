{
 "cells": [
  {
   "cell_type": "markdown",
   "metadata": {},
   "source": [
    "## Cythonize"
   ]
  },
  {
   "cell_type": "markdown",
   "metadata": {},
   "source": [
    "##### Notice: There are three little changes for users in the cythonized version:"
   ]
  },
  {
   "cell_type": "markdown",
   "metadata": {},
   "source": [
    "|      Changes      |              Python            |              Cython               |\n",
    "|      :-----:      |             :----:             |              :----:               |\n",
    "|   import method   | from dual_autodiff import Dual | from dual_autodiff_x import Dual |\n",
    "| getting properties|          x.real, x.dual        |    x.get_real(), x.get_dual()     |\n",
    "|  power operation  |               x**              |              x.pow()              |"
   ]
  },
  {
   "cell_type": "code",
   "execution_count": 1,
   "metadata": {},
   "outputs": [
    {
     "name": "stdout",
     "output_type": "stream",
     "text": [
      "Pure Python time: 0.1414 seconds\n",
      "optimised Cython time: 0.0608 seconds\n",
      "Cython version is 2.33 times faster than the pure Python version\n"
     ]
    }
   ],
   "source": [
    "import timeit\n",
    "from dual_autodiff import Dual as pDual\n",
    "from dual_autodiff_x import Dual as cDual\n",
    "\n",
    "def forward_mode_diff_pure(func, x):\n",
    "    result = func(pDual(x, 1))  \n",
    "    return result.dual \n",
    "\n",
    "def forward_mode_diff_cy(func, x):\n",
    "    result = func(cDual(x, 1))\n",
    "    return result.get_dual()  \n",
    "\n",
    "\n",
    "def test_function1(x):\n",
    "    \"\"\"\n",
    "    f(x) = log(sin(x)) + x^2 * cos(x)\n",
    "\n",
    "    parameter: x: An input Dual (pDual or cDual)\n",
    "    return: Function value of x \n",
    "    \"\"\"\n",
    "    if isinstance(x, cDual):\n",
    "        return x.sin().log() + x.pow(2) * x.cos()\n",
    "    if isinstance(x, pDual):\n",
    "        return x.sin().log() + x**2 * x.cos()\n",
    "\n",
    "\n",
    "def test_pure():\n",
    "    forward_mode_diff_pure(test_function1, 3)\n",
    "\n",
    "def test_cy():\n",
    "    forward_mode_diff_cy(test_function1, 3)\n",
    "\n",
    "# record the run times\n",
    "pure_time = timeit.timeit(test_pure, number=100000)\n",
    "cy_time = timeit.timeit(test_cy, number=100000)\n",
    "ratio = pure_time / cy_time\n",
    "\n",
    "print(f\"Pure Python time: {pure_time:.4f} seconds\")\n",
    "print(f\"optimised Cython time: {cy_time:.4f} seconds\")\n",
    "print(f\"Cython version is {ratio:.2f} times faster than the pure Python version\")"
   ]
  },
  {
   "cell_type": "code",
   "execution_count": 2,
   "metadata": {},
   "outputs": [
    {
     "name": "stdout",
     "output_type": "stream",
     "text": [
      "Pure Python time: 0.3583 seconds\n",
      "optimised Cython time: 0.1445 seconds\n",
      "Cython version is 2.48 times faster than the pure Python version\n"
     ]
    }
   ],
   "source": [
    "def test_function2(x):\n",
    "    \"\"\"\n",
    "    A super-complex function, but made up of defined simple operations\n",
    "\n",
    "    parameter: x: An input Dual (pDual or cDual)\n",
    "    return: Function value of x \n",
    "    \"\"\"\n",
    "    if isinstance(x, cDual):\n",
    "        return (4*x).tan().log().pow(100) + 3*(x.cos().sin()).pow(5) - (x.exp().tan() + 5).pow(3)\n",
    "    if isinstance(x, pDual):\n",
    "        return (4*x).tan().log()**100 + 3*(x.cos().sin())**5 - (x.exp().tan() + 5)**3\n",
    "\n",
    "\n",
    "def test_pure():\n",
    "    forward_mode_diff_pure(test_function2, 1)\n",
    "\n",
    "def test_cy():\n",
    "    forward_mode_diff_cy(test_function2, 1)\n",
    "\n",
    "# record the run times\n",
    "pure_time = timeit.timeit(test_pure, number=100000)\n",
    "cy_time = timeit.timeit(test_cy, number=100000)\n",
    "ratio = pure_time / cy_time\n",
    "\n",
    "print(f\"Pure Python time: {pure_time:.4f} seconds\")\n",
    "print(f\"optimised Cython time: {cy_time:.4f} seconds\")\n",
    "print(f\"Cython version is {ratio:.2f} times faster than the pure Python version\")"
   ]
  }
 ],
 "metadata": {
  "kernelspec": {
   "display_name": "Python 3",
   "language": "python",
   "name": "python3"
  },
  "language_info": {
   "codemirror_mode": {
    "name": "ipython",
    "version": 3
   },
   "file_extension": ".py",
   "mimetype": "text/x-python",
   "name": "python",
   "nbconvert_exporter": "python",
   "pygments_lexer": "ipython3",
   "version": "3.13.0"
  }
 },
 "nbformat": 4,
 "nbformat_minor": 2
}
