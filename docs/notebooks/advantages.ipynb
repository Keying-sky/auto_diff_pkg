{
 "cells": [
  {
   "cell_type": "markdown",
   "metadata": {},
   "source": [
    "## Advantages"
   ]
  },
  {
   "cell_type": "markdown",
   "metadata": {},
   "source": [
    "### More Accurate"
   ]
  },
  {
   "cell_type": "code",
   "execution_count": 1,
   "metadata": {},
   "outputs": [
    {
     "name": "stdout",
     "output_type": "stream",
     "text": [
      "Dual derivative: -1.9612372705533612\n",
      "Analytical derivative: -1.9612372705533612\n",
      "Numerical derivative: -1.9612723090589588\n"
     ]
    }
   ],
   "source": [
    "### set derivative methods with Dual, numerical one and analytical one\n",
    "import numpy as np\n",
    "import matplotlib.pyplot as plt\n",
    "from dual_autodiff import Dual\n",
    "\n",
    "def f(x):\n",
    "    \"\"\"\n",
    "    f(x) = log(sin(x)) + x^2 * cos(x)\n",
    "\n",
    "    parameter: x: An input variable (can be a true number or a Dual)\n",
    "    return: Function value of x \n",
    "    \"\"\"\n",
    "    if isinstance(x, Dual):\n",
    "        return x.sin().log() + x**2 * x.cos()\n",
    "    return np.log(np.sin(x)) + x**2 * np.cos(x)\n",
    "\n",
    "\n",
    "def forward_mode_diff(func, x):\n",
    "    '''\n",
    "    A forward mode automatic differentiation method\n",
    "    parameters:\n",
    "        func:   Objective function, should be constructed by the mathematical operations in class 'Dual'\n",
    "        x:      A scalar, indicating where you need to differentiate\n",
    "    return: func derivative value at x\n",
    "    '''\n",
    "    x_dual = Dual(x, 1) \n",
    "    result = func(x_dual)  \n",
    "    return result.dual \n",
    "\n",
    "# analytical solution\n",
    "def analytical_derivative(x):\n",
    "    return (np.cos(x) / np.sin(x)) + 2 * x * np.cos(x) - x**2 * np.sin(x)\n",
    "\n",
    "# numerical solution\n",
    "def numerical_derivative(func, x, h=1e-5):\n",
    "    return (func(x + h) - func(x)) / h\n",
    "\n",
    "# compare the results from three different derivative methods at x = 1.5\n",
    "x_val = 1.5\n",
    "\n",
    "dual_result = forward_mode_diff(f, x_val)\n",
    "analytical_result = analytical_derivative(x_val)\n",
    "numerical_result = numerical_derivative(f, x_val)\n",
    "\n",
    "print(f\"Dual derivative: {dual_result}\")\n",
    "print(f\"Analytical derivative: {analytical_result}\")\n",
    "print(f\"Numerical derivative: {numerical_result}\")\n"
   ]
  },
  {
   "cell_type": "markdown",
   "metadata": {},
   "source": [
    "### More Stable"
   ]
  },
  {
   "cell_type": "code",
   "execution_count": 2,
   "metadata": {},
   "outputs": [
    {
     "data": {
      "application/vnd.jupyter.widget-view+json": {
       "model_id": "24c4361a3df5410088698797d7747f4a",
       "version_major": 2,
       "version_minor": 0
      },
      "text/plain": [
       "interactive(children=(FloatSlider(value=1.0, description='min', max=1.0, min=0.01, step=0.01), FloatSlider(val…"
      ]
     },
     "metadata": {},
     "output_type": "display_data"
    }
   ],
   "source": [
    "### compare to analytical derivative at x = 1.5\n",
    "\n",
    "from ipywidgets import interactive\n",
    "import ipywidgets as widgets\n",
    "\n",
    "def plot_with_parameters(min, max):\n",
    "    x_vals = 1.5\n",
    "    step_size = 1e-9 * np.linspace(min, max, 1000)\n",
    "    num_bias = [numerical_derivative(f, x_vals, ss) for ss in step_size] - analytical_result\n",
    "    dual_bias = dual_result - analytical_result\n",
    "\n",
    "    plt.figure(figsize=(10, 6))\n",
    "    plt.plot(step_size, num_bias, label=\"Bias of numerical method\")\n",
    "    plt.gca().invert_xaxis()\n",
    "    plt.hlines(dual_bias, step_size[0], step_size[-1], colors='r', label='Bias of dual method')\n",
    "    plt.xlabel(\"step size\")\n",
    "    plt.ylabel(\"bias from analytical derivative at x = 1.5\")\n",
    "    plt.title(\"Comparison of Derivative Methods\")\n",
    "    plt.legend()\n",
    "    plt.grid(True)\n",
    "    plt.show()\n",
    "\n",
    "# Create interactive widget\n",
    "interactive_plot = interactive(\n",
    "    plot_with_parameters,\n",
    "    max=widgets.FloatSlider(min=10, max=1000, step=0.01, value=10),\n",
    "    min=widgets.FloatSlider(min=0.01, max=1, step=0.01, value=1),\n",
    ")\n",
    "\n",
    "display(interactive_plot)"
   ]
  },
  {
   "cell_type": "markdown",
   "metadata": {},
   "source": [
    "### Faster"
   ]
  },
  {
   "cell_type": "code",
   "execution_count": 3,
   "metadata": {},
   "outputs": [
    {
     "name": "stdout",
     "output_type": "stream",
     "text": [
      "The numerical, python, cython results are:\n",
      "-14.225512501475633\n",
      "-14.225287603576012\n",
      "-14.225287603576012\n",
      "\n",
      "\n",
      "The run times comparison:\n",
      "numerical derivative time: 0.3996 seconds\n",
      "Pure Python time:          0.1509 seconds\n",
      "optimised Cython time:     0.0512 seconds\n"
     ]
    }
   ],
   "source": [
    "import timeit\n",
    "from dual_autodiff import Dual as pDual\n",
    "from dual_autodiff_x import Dual as cDual\n",
    "\n",
    "def forward_mode_diff_pure(func, x):\n",
    "    result = func(pDual(x, 1))  \n",
    "    return result.dual \n",
    "\n",
    "def forward_mode_diff_cy(func, x):\n",
    "    result = func(cDual(x, 1))\n",
    "    return result.get_dual()  \n",
    "\n",
    "def f(x):\n",
    "    \"\"\"\n",
    "    f(x) = log(sin(x)) + x^2 * cos(x)\n",
    "\n",
    "    parameter: x: An input variable (can be a true number or a Dual)\n",
    "    return: Function value of x \n",
    "    \"\"\"\n",
    "    if isinstance(x, cDual):\n",
    "        return x.sin().log() + x.pow(2) * x.cos()\n",
    "    if isinstance(x, pDual):\n",
    "        return x.sin().log() + x**2 * x.cos()\n",
    "    return np.log(np.sin(x)) + x**2 * np.cos(x)\n",
    "\n",
    "\n",
    "def test_pure():\n",
    "    forward_mode_diff_pure(f, 3)\n",
    "\n",
    "def test_cy():\n",
    "    forward_mode_diff_cy(f, 3)\n",
    "\n",
    "def test_num():\n",
    "    numerical_derivative(f, 3)\n",
    "    \n",
    "\n",
    "# record the run times\n",
    "pure_time = timeit.timeit(test_pure, number=100000)\n",
    "cy_time = timeit.timeit(test_cy, number=100000)\n",
    "num_time = timeit.timeit(test_num, number=100000)\n",
    "\n",
    "print('The numerical, python, cython results are:')\n",
    "print(numerical_derivative(f, 3))\n",
    "print(forward_mode_diff_pure(f, 3))\n",
    "print(forward_mode_diff_cy(f, 3))\n",
    "print('\\n')\n",
    "print('The run times comparison:')\n",
    "print(f\"numerical derivative time: {num_time:.4f} seconds\")\n",
    "print(f\"Pure Python time:          {pure_time:.4f} seconds\")\n",
    "print(f\"optimised Cython time:     {cy_time:.4f} seconds\")"
   ]
  }
 ],
 "metadata": {
  "kernelspec": {
   "display_name": "Python 3",
   "language": "python",
   "name": "python3"
  },
  "language_info": {
   "codemirror_mode": {
    "name": "ipython",
    "version": 3
   },
   "file_extension": ".py",
   "mimetype": "text/x-python",
   "name": "python",
   "nbconvert_exporter": "python",
   "pygments_lexer": "ipython3",
   "version": "3.13.0"
  }
 },
 "nbformat": 4,
 "nbformat_minor": 2
}
