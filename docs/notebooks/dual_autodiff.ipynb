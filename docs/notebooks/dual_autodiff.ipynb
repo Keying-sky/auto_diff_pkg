{
 "cells": [
  {
   "cell_type": "markdown",
   "metadata": {},
   "source": [
    "## Tutorial"
   ]
  },
  {
   "cell_type": "markdown",
   "metadata": {},
   "source": [
    "#### 1. What is th dual numbers?"
   ]
  },
  {
   "cell_type": "markdown",
   "metadata": {},
   "source": [
    "The dual numbers are a kind of number just like complex numbers, but with the \"$i^2 = 0$\".\n",
    "\n",
    "We denote it as $x = a + b\\epsilon$, where $\\epsilon ^2 = 0$\n",
    "\n",
    "In our package ***dual_autodiff***, we represent x as ***Dual(a, b)*** where the real part is ***a***, the dual part is ***b***."
   ]
  },
  {
   "cell_type": "markdown",
   "metadata": {},
   "source": [
    "#### 2. How to use package *dual_autodiff* ?"
   ]
  },
  {
   "cell_type": "code",
   "execution_count": 1,
   "metadata": {},
   "outputs": [],
   "source": [
    "# import the Dual class\n",
    "from dual_autodiff import Dual"
   ]
  },
  {
   "cell_type": "code",
   "execution_count": 16,
   "metadata": {},
   "outputs": [
    {
     "name": "stdout",
     "output_type": "stream",
     "text": [
      "Dual(real=1, dual=2)\n",
      "the real part of x is 1, the dual part of x is 2\n"
     ]
    }
   ],
   "source": [
    "# create a dual number x, print it and get its properties\n",
    "x = Dual(1, 2)\n",
    "print(x)\n",
    "print(f\"the real part of x is {x.real}, the dual part of x is {x.dual}\")"
   ]
  },
  {
   "cell_type": "code",
   "execution_count": 18,
   "metadata": {},
   "outputs": [
    {
     "name": "stdout",
     "output_type": "stream",
     "text": [
      "Dual(real=2, dual=7)\n"
     ]
    }
   ],
   "source": [
    "# Now let we do some mathematical operations\n",
    "x = Dual(1, 2)\n",
    "y = Dual(2, 3)\n",
    "z = x * y\n",
    "\n",
    "print(z)"
   ]
  },
  {
   "cell_type": "code",
   "execution_count": 19,
   "metadata": {},
   "outputs": [
    {
     "name": "stdout",
     "output_type": "stream",
     "text": [
      "Dual(real=0.36769855959904807, dual=1.7624524857254276)\n"
     ]
    }
   ],
   "source": [
    "# also can do them in a function\n",
    "def simple_operations(x):\n",
    "    \"\"\"\n",
    "    f(x) = log(sin(x)) + x^2 * cos(x)\n",
    "\n",
    "    parameter: x: An input Dual\n",
    "    return: Function value of x \n",
    "    \"\"\"\n",
    "    return x.sin().log() + x**2 * x.cos()\n",
    "\n",
    "print(simple_operations(x))\n"
   ]
  },
  {
   "cell_type": "markdown",
   "metadata": {},
   "source": [
    "#### 3. What is forward-mode automatic differentiation?"
   ]
  },
  {
   "cell_type": "markdown",
   "metadata": {},
   "source": [
    "According to the unique property of the power operation on dual numbers:\n",
    "\n",
    "Set $f(x) = x^2$, we can find $f(a + b \\epsilon)  = {(a+b \\epsilon)}^2 = a^2 + 2ab\\epsilon = f(a)+f'(a)b\\epsilon$\n",
    "\n",
    "We can extend it to any kind of function, so **the derivative of a function at a given value** $\\mathbf{a}$  can be easily found using the function value of the dual number $x = (a, 1)$ and the function value of $x.real$:\n",
    "\n",
    "$f'(a) = ( f(a + 1 \\cdot \\epsilon) - f(a) ).dual$\n",
    "\n",
    "This is the forward-mode automatic differentiation."
   ]
  },
  {
   "cell_type": "code",
   "execution_count": 21,
   "metadata": {},
   "outputs": [
    {
     "name": "stdout",
     "output_type": "stream",
     "text": [
      "The derivative value of x^2 at x = 2 is  4\n"
     ]
    }
   ],
   "source": [
    "# Let we implement the forward-mode differentiation\n",
    "def forward_mode_diff(func, x):\n",
    "    '''\n",
    "    A forward mode automatic differentiation method\n",
    "    parameters:\n",
    "        func:   Objective function, should be constructed by the mathematical operations in class 'Dual'\n",
    "        x:      A scalar, indicating where you need to differentiate\n",
    "    return: func derivative value at x\n",
    "    '''\n",
    "    x_dual = Dual(x, 1) \n",
    "    result = func(x_dual)  \n",
    "    return result.dual \n",
    "\n",
    "print(f\"The derivative value of x^2 at x = 2 is  {forward_mode_diff(lambda x:x**2, 2)}\")"
   ]
  },
  {
   "cell_type": "markdown",
   "metadata": {},
   "source": [
    "##### For more details of implementations of forward-mode automatic differentiation, see 'advandages' part."
   ]
  }
 ],
 "metadata": {
  "kernelspec": {
   "display_name": "Python 3",
   "language": "python",
   "name": "python3"
  },
  "language_info": {
   "codemirror_mode": {
    "name": "ipython",
    "version": 3
   },
   "file_extension": ".py",
   "mimetype": "text/x-python",
   "name": "python",
   "nbconvert_exporter": "python",
   "pygments_lexer": "ipython3",
   "version": "3.13.0"
  }
 },
 "nbformat": 4,
 "nbformat_minor": 2
}
